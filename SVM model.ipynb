{
 "cells": [
  {
   "cell_type": "code",
   "execution_count": null,
   "id": "954daa35-ffd0-4e40-babe-674e43ecf1d8",
   "metadata": {
    "id": "954daa35-ffd0-4e40-babe-674e43ecf1d8",
    "outputId": "9a0edf8f-3fe9-4f55-b123-195f29b2d94a"
   },
   "outputs": [],
   "source": [
    "import pandas as pd\n",
    "from sklearn.model_selection import train_test_split\n",
    "from sklearn.preprocessing import StandardScaler\n",
    "from sklearn.svm import SVC\n",
    "from sklearn.metrics import precision_score, recall_score, accuracy_score\n",
    "# Load the dataset\n",
    "data = pd.read_csv('updated_merged_final_rounded.csv')\n",
    "\n",
    "# Display the first few rows to understand its structure\n",
    "data.head()"
   ]
  },
  {
   "cell_type": "code",
   "execution_count": null,
   "id": "c77cd62a-3769-49c3-b934-cb08ebe06806",
   "metadata": {
    "id": "c77cd62a-3769-49c3-b934-cb08ebe06806",
    "outputId": "6c672079-d436-44de-9228-4930e52a1c0d"
   },
   "outputs": [],
   "source": [
    "from sklearn.model_selection import train_test_split\n",
    "from sklearn.svm import SVC\n",
    "from sklearn.metrics import classification_report, accuracy_score\n",
    "\n",
    "# Filter the dataset for patients with ICU stay within the first 72 hours\n",
    "filtered_data = data[data['icu_stay_hours'] <= 72]\n",
    "\n",
    "# Define features and target variable\n",
    "X = filtered_data[['age', 'icu_stay_hours']]  # Example features; adjust as needed\n",
    "y = filtered_data['ventilation_status_flag']  # Target: VAP status\n",
    "\n",
    "# Split the data into training and test sets\n",
    "X_train, X_test, y_train, y_test = train_test_split(X, y, test_size=0.2, random_state=42)\n",
    "\n",
    "# Initialize and train the SVM model\n",
    "svm_model = SVC(kernel='linear', random_state=42)\n",
    "svm_model.fit(X_train, y_train)\n",
    "\n",
    "# Make predictions and evaluate the model\n",
    "y_pred = svm_model.predict(X_test)\n",
    "accuracy = accuracy_score(y_test, y_pred)\n",
    "class_report = classification_report(y_test, y_pred)\n",
    "\n",
    "print(\"Accuracy Score:\", accuracy)\n",
    "print(\"\\nClassification Report:\\n\", class_report)"
   ]
  },
  {
   "cell_type": "code",
   "execution_count": null,
   "id": "6298a632-1c7f-4eb2-8ab7-76035118c96b",
   "metadata": {
    "id": "6298a632-1c7f-4eb2-8ab7-76035118c96b",
    "outputId": "79465d61-aa4f-457c-e9ff-8cafb6e19933"
   },
   "outputs": [],
   "source": [
    "!pip install imbalanced-learn"
   ]
  },
  {
   "cell_type": "code",
   "execution_count": null,
   "id": "a384956c-be1f-4db6-aae8-8914fd602e2d",
   "metadata": {
    "id": "a384956c-be1f-4db6-aae8-8914fd602e2d",
    "outputId": "421afa4e-93d8-4194-ca4d-cb40271827ac"
   },
   "outputs": [
    {
     "ename": "KeyboardInterrupt",
     "evalue": "",
     "output_type": "error",
     "traceback": [
      "\u001B[1;31m---------------------------------------------------------------------------\u001B[0m",
      "\u001B[1;31mKeyboardInterrupt\u001B[0m                         Traceback (most recent call last)",
      "Cell \u001B[1;32mIn[6], line 35\u001B[0m\n\u001B[0;32m     33\u001B[0m \u001B[38;5;66;03m# Initialize and train the SVM model\u001B[39;00m\n\u001B[0;32m     34\u001B[0m svm_model \u001B[38;5;241m=\u001B[39m SVC(kernel\u001B[38;5;241m=\u001B[39m\u001B[38;5;124m'\u001B[39m\u001B[38;5;124mlinear\u001B[39m\u001B[38;5;124m'\u001B[39m, random_state\u001B[38;5;241m=\u001B[39m\u001B[38;5;241m42\u001B[39m)\n\u001B[1;32m---> 35\u001B[0m svm_model\u001B[38;5;241m.\u001B[39mfit(X_train_res, y_train_res)\n\u001B[0;32m     37\u001B[0m \u001B[38;5;66;03m# Make predictions and evaluate the model\u001B[39;00m\n\u001B[0;32m     38\u001B[0m y_pred \u001B[38;5;241m=\u001B[39m svm_model\u001B[38;5;241m.\u001B[39mpredict(X_test)\n",
      "File \u001B[1;32m~\\new\\Lib\\site-packages\\sklearn\\svm\\_base.py:252\u001B[0m, in \u001B[0;36mBaseLibSVM.fit\u001B[1;34m(self, X, y, sample_weight)\u001B[0m\n\u001B[0;32m    249\u001B[0m     \u001B[38;5;28mprint\u001B[39m(\u001B[38;5;124m\"\u001B[39m\u001B[38;5;124m[LibSVM]\u001B[39m\u001B[38;5;124m\"\u001B[39m, end\u001B[38;5;241m=\u001B[39m\u001B[38;5;124m\"\u001B[39m\u001B[38;5;124m\"\u001B[39m)\n\u001B[0;32m    251\u001B[0m seed \u001B[38;5;241m=\u001B[39m rnd\u001B[38;5;241m.\u001B[39mrandint(np\u001B[38;5;241m.\u001B[39miinfo(\u001B[38;5;124m\"\u001B[39m\u001B[38;5;124mi\u001B[39m\u001B[38;5;124m\"\u001B[39m)\u001B[38;5;241m.\u001B[39mmax)\n\u001B[1;32m--> 252\u001B[0m fit(X, y, sample_weight, solver_type, kernel, random_seed\u001B[38;5;241m=\u001B[39mseed)\n\u001B[0;32m    253\u001B[0m \u001B[38;5;66;03m# see comment on the other call to np.iinfo in this file\u001B[39;00m\n\u001B[0;32m    255\u001B[0m \u001B[38;5;28mself\u001B[39m\u001B[38;5;241m.\u001B[39mshape_fit_ \u001B[38;5;241m=\u001B[39m X\u001B[38;5;241m.\u001B[39mshape \u001B[38;5;28;01mif\u001B[39;00m \u001B[38;5;28mhasattr\u001B[39m(X, \u001B[38;5;124m\"\u001B[39m\u001B[38;5;124mshape\u001B[39m\u001B[38;5;124m\"\u001B[39m) \u001B[38;5;28;01melse\u001B[39;00m (n_samples,)\n",
      "File \u001B[1;32m~\\new\\Lib\\site-packages\\sklearn\\svm\\_base.py:331\u001B[0m, in \u001B[0;36mBaseLibSVM._dense_fit\u001B[1;34m(self, X, y, sample_weight, solver_type, kernel, random_seed)\u001B[0m\n\u001B[0;32m    317\u001B[0m libsvm\u001B[38;5;241m.\u001B[39mset_verbosity_wrap(\u001B[38;5;28mself\u001B[39m\u001B[38;5;241m.\u001B[39mverbose)\n\u001B[0;32m    319\u001B[0m \u001B[38;5;66;03m# we don't pass **self.get_params() to allow subclasses to\u001B[39;00m\n\u001B[0;32m    320\u001B[0m \u001B[38;5;66;03m# add other parameters to __init__\u001B[39;00m\n\u001B[0;32m    321\u001B[0m (\n\u001B[0;32m    322\u001B[0m     \u001B[38;5;28mself\u001B[39m\u001B[38;5;241m.\u001B[39msupport_,\n\u001B[0;32m    323\u001B[0m     \u001B[38;5;28mself\u001B[39m\u001B[38;5;241m.\u001B[39msupport_vectors_,\n\u001B[0;32m    324\u001B[0m     \u001B[38;5;28mself\u001B[39m\u001B[38;5;241m.\u001B[39m_n_support,\n\u001B[0;32m    325\u001B[0m     \u001B[38;5;28mself\u001B[39m\u001B[38;5;241m.\u001B[39mdual_coef_,\n\u001B[0;32m    326\u001B[0m     \u001B[38;5;28mself\u001B[39m\u001B[38;5;241m.\u001B[39mintercept_,\n\u001B[0;32m    327\u001B[0m     \u001B[38;5;28mself\u001B[39m\u001B[38;5;241m.\u001B[39m_probA,\n\u001B[0;32m    328\u001B[0m     \u001B[38;5;28mself\u001B[39m\u001B[38;5;241m.\u001B[39m_probB,\n\u001B[0;32m    329\u001B[0m     \u001B[38;5;28mself\u001B[39m\u001B[38;5;241m.\u001B[39mfit_status_,\n\u001B[0;32m    330\u001B[0m     \u001B[38;5;28mself\u001B[39m\u001B[38;5;241m.\u001B[39m_num_iter,\n\u001B[1;32m--> 331\u001B[0m ) \u001B[38;5;241m=\u001B[39m libsvm\u001B[38;5;241m.\u001B[39mfit(\n\u001B[0;32m    332\u001B[0m     X,\n\u001B[0;32m    333\u001B[0m     y,\n\u001B[0;32m    334\u001B[0m     svm_type\u001B[38;5;241m=\u001B[39msolver_type,\n\u001B[0;32m    335\u001B[0m     sample_weight\u001B[38;5;241m=\u001B[39msample_weight,\n\u001B[0;32m    336\u001B[0m     \u001B[38;5;66;03m# TODO(1.4): Replace \"_class_weight\" with \"class_weight_\"\u001B[39;00m\n\u001B[0;32m    337\u001B[0m     class_weight\u001B[38;5;241m=\u001B[39m\u001B[38;5;28mgetattr\u001B[39m(\u001B[38;5;28mself\u001B[39m, \u001B[38;5;124m\"\u001B[39m\u001B[38;5;124m_class_weight\u001B[39m\u001B[38;5;124m\"\u001B[39m, np\u001B[38;5;241m.\u001B[39mempty(\u001B[38;5;241m0\u001B[39m)),\n\u001B[0;32m    338\u001B[0m     kernel\u001B[38;5;241m=\u001B[39mkernel,\n\u001B[0;32m    339\u001B[0m     C\u001B[38;5;241m=\u001B[39m\u001B[38;5;28mself\u001B[39m\u001B[38;5;241m.\u001B[39mC,\n\u001B[0;32m    340\u001B[0m     nu\u001B[38;5;241m=\u001B[39m\u001B[38;5;28mself\u001B[39m\u001B[38;5;241m.\u001B[39mnu,\n\u001B[0;32m    341\u001B[0m     probability\u001B[38;5;241m=\u001B[39m\u001B[38;5;28mself\u001B[39m\u001B[38;5;241m.\u001B[39mprobability,\n\u001B[0;32m    342\u001B[0m     degree\u001B[38;5;241m=\u001B[39m\u001B[38;5;28mself\u001B[39m\u001B[38;5;241m.\u001B[39mdegree,\n\u001B[0;32m    343\u001B[0m     shrinking\u001B[38;5;241m=\u001B[39m\u001B[38;5;28mself\u001B[39m\u001B[38;5;241m.\u001B[39mshrinking,\n\u001B[0;32m    344\u001B[0m     tol\u001B[38;5;241m=\u001B[39m\u001B[38;5;28mself\u001B[39m\u001B[38;5;241m.\u001B[39mtol,\n\u001B[0;32m    345\u001B[0m     cache_size\u001B[38;5;241m=\u001B[39m\u001B[38;5;28mself\u001B[39m\u001B[38;5;241m.\u001B[39mcache_size,\n\u001B[0;32m    346\u001B[0m     coef0\u001B[38;5;241m=\u001B[39m\u001B[38;5;28mself\u001B[39m\u001B[38;5;241m.\u001B[39mcoef0,\n\u001B[0;32m    347\u001B[0m     gamma\u001B[38;5;241m=\u001B[39m\u001B[38;5;28mself\u001B[39m\u001B[38;5;241m.\u001B[39m_gamma,\n\u001B[0;32m    348\u001B[0m     epsilon\u001B[38;5;241m=\u001B[39m\u001B[38;5;28mself\u001B[39m\u001B[38;5;241m.\u001B[39mepsilon,\n\u001B[0;32m    349\u001B[0m     max_iter\u001B[38;5;241m=\u001B[39m\u001B[38;5;28mself\u001B[39m\u001B[38;5;241m.\u001B[39mmax_iter,\n\u001B[0;32m    350\u001B[0m     random_seed\u001B[38;5;241m=\u001B[39mrandom_seed,\n\u001B[0;32m    351\u001B[0m )\n\u001B[0;32m    353\u001B[0m \u001B[38;5;28mself\u001B[39m\u001B[38;5;241m.\u001B[39m_warn_from_fit_status()\n",
      "\u001B[1;31mKeyboardInterrupt\u001B[0m: "
     ]
    }
   ],
   "source": [
    "from sklearn.model_selection import train_test_split\n",
    "from sklearn.svm import SVC\n",
    "from sklearn.metrics import classification_report, accuracy_score\n",
    "from sklearn.utils import resample\n",
    "\n",
    "# Filter the dataset for patients with ICU stay within the first 72 hours\n",
    "filtered_data = data[data['icu_stay_hours'] <= 72]\n",
    "\n",
    "# Define features and target variable\n",
    "X = filtered_data[['age', 'icu_stay_hours']]  # Example features; adjust as needed\n",
    "y = filtered_data['ventilation_status_flag']  # Target: VAP status\n",
    "\n",
    "# Split the data into training and test sets\n",
    "X_train, X_test, y_train, y_test = train_test_split(X, y, test_size=0.2, random_state=42)\n",
    "\n",
    "# Combine X_train and y_train for easier resampling\n",
    "train_data = pd.concat([X_train, y_train], axis=1)\n",
    "\n",
    "# Separate minority and majority classes\n",
    "majority = train_data[train_data['ventilation_status_flag'] == y_train.mode()[0]]\n",
    "minority = train_data[train_data['ventilation_status_flag'] != y_train.mode()[0]]\n",
    "\n",
    "# Upsample the minority class\n",
    "minority_upsampled = resample(minority, replace=True, n_samples=len(majority), random_state=42)\n",
    "\n",
    "# Combine the upsampled minority class with the majority class\n",
    "train_data_upsampled = pd.concat([majority, minority_upsampled])\n",
    "\n",
    "# Separate features and target variable again\n",
    "X_train_res = train_data_upsampled.drop('ventilation_status_flag', axis=1)\n",
    "y_train_res = train_data_upsampled['ventilation_status_flag']\n",
    "\n",
    "# Initialize and train the SVM model\n",
    "svm_model = SVC(kernel='linear', random_state=42)\n",
    "svm_model.fit(X_train_res, y_train_res)\n",
    "\n",
    "# Make predictions and evaluate the model\n",
    "y_pred = svm_model.predict(X_test)\n",
    "accuracy = accuracy_score(y_test, y_pred)\n",
    "report = classification_report(y_test, y_pred)\n",
    "\n",
    "print(\"Accuracy:\", accuracy)\n",
    "print(\"Classification Report:\\n\", report)\n"
   ]
  },
  {
   "cell_type": "code",
   "execution_count": null,
   "id": "a7675ecd-1992-4b70-b1ae-a91bdfecfa7e",
   "metadata": {
    "id": "a7675ecd-1992-4b70-b1ae-a91bdfecfa7e",
    "outputId": "75c0580e-8643-4e96-bf7f-e6f0907162ca"
   },
   "outputs": [],
   "source": [
    "from sklearn.metrics import precision_score, recall_score\n",
    "\n",
    "# Calculate overall precision and recall\n",
    "overall_precision = precision_score(y_test, y_pred, average='weighted')\n",
    "overall_recall = recall_score(y_test, y_pred, average='weighted')\n",
    "\n",
    "print(\"Overall Precision:\", overall_precision)\n",
    "print(\"Overall Recall:\", overall_recall)"
   ]
  },
  {
   "cell_type": "code",
   "execution_count": null,
   "id": "c9635852-3c33-4422-ad72-05860edeb7b7",
   "metadata": {
    "id": "c9635852-3c33-4422-ad72-05860edeb7b7",
    "outputId": "dea4c338-906d-4382-fd5a-e63a70d9c7ad"
   },
   "outputs": [],
   "source": [
    "from sklearn.metrics import precision_score, recall_score, f1_score\n",
    "\n",
    "# Calculate overall precision, recall, and F1 score, handling undefined metrics\n",
    "overall_precision = precision_score(y_test, y_pred, average='weighted', zero_division=0)\n",
    "overall_recall = recall_score(y_test, y_pred, average='weighted', zero_division=0)\n",
    "overall_f1 = f1_score(y_test, y_pred, average='weighted', zero_division=0)\n",
    "\n",
    "print(\"Overall Precision:\", overall_precision)\n",
    "print(\"Overall Recall:\", overall_recall)\n",
    "print(\"Overall F1 Score:\", overall_f1)"
   ]
  },
  {
   "cell_type": "code",
   "execution_count": null,
   "id": "a80525e3-3774-4c43-a306-b9ce20dc75b8",
   "metadata": {
    "id": "a80525e3-3774-4c43-a306-b9ce20dc75b8"
   },
   "outputs": [],
   "source": []
  }
 ],
 "metadata": {
  "kernelspec": {
   "display_name": "Python 3 (ipykernel)",
   "language": "python",
   "name": "python3"
  },
  "language_info": {
   "codemirror_mode": {
    "name": "ipython",
    "version": 3
   },
   "file_extension": ".py",
   "mimetype": "text/x-python",
   "name": "python",
   "nbconvert_exporter": "python",
   "pygments_lexer": "ipython3",
   "version": "3.11.7"
  },
  "colab": {
   "provenance": []
  }
 },
 "nbformat": 4,
 "nbformat_minor": 5
}
